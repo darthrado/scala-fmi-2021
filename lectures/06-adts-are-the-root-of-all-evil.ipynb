{
 "cells": [
  {
   "cell_type": "markdown",
   "id": "a9d77216",
   "metadata": {
    "slideshow": {
     "slide_type": "slide"
    }
   },
   "source": [
    "# ADTs are the source of all EVIL\n",
    "\n",
    "\n",
    "### Scala @ FMI - 2021-04-07 by The Scala Team\n"
   ]
  },
  {
   "cell_type": "markdown",
   "id": "127cca58",
   "metadata": {
    "slideshow": {
     "slide_type": "slide"
    }
   },
   "source": [
    "## What are we going to do today?\n",
    "\n",
    "* Pattern matching\n",
    "    * What is/isn't Pattern matching?\n",
    "    * What it means for us in Scala w/ Code\n",
    "    * Advanced PM\n",
    "* Algebraic Data Types.\n",
    "    * Who dat?\n",
    "    * ADTs in the wild\n",
    "    * ADTs in sCAlaBlE LaNgUAge 2/3\n",
    "    * Functional Programming and Polymorphism. Again.\n",
    "* The Allmighty OPTION\n",
    "    * What is the Option type?\n",
    "    * Option vs Maybe vs Nullable\n",
    "    * Implement in Scala\n",
    "    * ...I want to know more"
   ]
  },
  {
   "cell_type": "markdown",
   "id": "39e43a9c",
   "metadata": {
    "slideshow": {
     "slide_type": "slide"
    }
   },
   "source": [
    "## Pattern Matching"
   ]
  },
  {
   "cell_type": "markdown",
   "id": "80862680",
   "metadata": {
    "slideshow": {
     "slide_type": "fragment"
    }
   },
   "source": [
    "* What is it?\n"
   ]
  },
  {
   "cell_type": "code",
   "execution_count": 4,
   "id": "745afdee",
   "metadata": {
    "slideshow": {
     "slide_type": "fragment"
    }
   },
   "outputs": [
    {
     "data": {
      "text/plain": [
       "\u001b[36mpoopy\u001b[39m: \u001b[32mList\u001b[39m[\u001b[32mInt\u001b[39m] = \u001b[33mList\u001b[39m(\u001b[32m1\u001b[39m, \u001b[32m2\u001b[39m, \u001b[32m3\u001b[39m)\n",
       "\u001b[36mres3_1\u001b[39m: \u001b[32mString\u001b[39m = \u001b[32m\"I am NOT a list of 1 element\"\u001b[39m"
      ]
     },
     "execution_count": 4,
     "metadata": {},
     "output_type": "execute_result"
    }
   ],
   "source": [
    "val poopy = List(1, 2, 3)\n",
    "poopy.length match {\n",
    "    // Ako listata e s 1 element da kajem \"Az sum lista s 1\"\n",
    "    // Ako ne -> Ne sum lista s edin\n",
    "    //\n",
    "    case 1 => \"I am a list of 1 element\"\n",
    "    case _ => \"I am NOT a list of 1 element\"\n",
    "}"
   ]
  },
  {
   "cell_type": "code",
   "execution_count": 12,
   "id": "b63101b3",
   "metadata": {
    "slideshow": {
     "slide_type": "fragment"
    }
   },
   "outputs": [
    {
     "data": {
      "text/plain": [
       "defined \u001b[32mfunction\u001b[39m \u001b[36mpmMap\u001b[39m\n",
       "\u001b[36mres11_1\u001b[39m: \u001b[32mList\u001b[39m[\u001b[32mInt\u001b[39m] = \u001b[33mList\u001b[39m(\u001b[32m2\u001b[39m, \u001b[32m3\u001b[39m, \u001b[32m4\u001b[39m)"
      ]
     },
     "execution_count": 12,
     "metadata": {},
     "output_type": "execute_result"
    }
   ],
   "source": [
    "/// Let's implement a function we've never seen before\\\n",
    "// We are going to use recursiong + pattern match\n",
    "// pmMap(List(1,2,3))(a => a + 1)\n",
    "\n",
    "def pmMap[A,B](current: List[A], acc: List[B] = Nil)(f: A => B):List[B] = \n",
    "current match {\n",
    "    case Nil => acc.reverse\n",
    "    case x::xs => pmMap(xs, f(x)::acc)(f)\n",
    "}\n",
    "\n",
    "pmMap(List(1,2,3))(a => a + 1)"
   ]
  },
  {
   "cell_type": "code",
   "execution_count": 35,
   "id": "69ee0124",
   "metadata": {
    "slideshow": {
     "slide_type": "fragment"
    }
   },
   "outputs": [],
   "source": [
    "/// Let's implement a function we've never seen before\n",
    "\n",
    "// pmMap(List(1,2,3))(a => a + 1)"
   ]
  },
  {
   "cell_type": "markdown",
   "id": "03ad6a26",
   "metadata": {
    "slideshow": {
     "slide_type": "slide"
    }
   },
   "source": [
    "## What about our friend, the case class?"
   ]
  },
  {
   "cell_type": "code",
   "execution_count": 2,
   "id": "d0d3f0c5",
   "metadata": {
    "scrolled": true,
    "slideshow": {
     "slide_type": "fragment"
    }
   },
   "outputs": [
    {
     "data": {
      "text/plain": [
       "defined \u001b[32mclass\u001b[39m \u001b[36mPet\u001b[39m\n",
       "\u001b[36mres1_1\u001b[39m: \u001b[32mString\u001b[39m = \u001b[32m\"I am Leo and I am probably a cat\"\u001b[39m"
      ]
     },
     "execution_count": 2,
     "metadata": {},
     "output_type": "execute_result"
    }
   ],
   "source": [
    "// So, can we keep going a bit. What is a case Class\n",
    "case class Pet(name: String, species: String)\n",
    "\n",
    "// can we pattern match on this? How?\n",
    "\n",
    "Pet(\"Leo\", \"cat\") match {\n",
    "    case Pet(\"Leo\", _) => \"I am Leo and I am probably a cat\"\n",
    "    case Pet(\"Leo\", \"cat\") => \"I am Leo and most definitely a cat!\"\n",
    "    case _ => \"I am not leo\"\n",
    "}\n",
    "\n",
    "\n",
    "// Ok, but....will it work IF....."
   ]
  },
  {
   "cell_type": "code",
   "execution_count": null,
   "id": "71d93cd5",
   "metadata": {
    "slideshow": {
     "slide_type": "fragment"
    }
   },
   "outputs": [],
   "source": []
  },
  {
   "cell_type": "markdown",
   "id": "18ba4fe9",
   "metadata": {
    "slideshow": {
     "slide_type": "slide"
    }
   },
   "source": [
    "## The Unexpected Pattern Match is the Deadliest"
   ]
  },
  {
   "cell_type": "code",
   "execution_count": 6,
   "id": "76e171a8",
   "metadata": {
    "slideshow": {
     "slide_type": "fragment"
    }
   },
   "outputs": [
    {
     "data": {
      "text/plain": [
       "\u001b[36mcatsAndStuff\u001b[39m: \u001b[32mList\u001b[39m[\u001b[32mPet\u001b[39m] = \u001b[33mList\u001b[39m(\n",
       "  \u001b[33mPet\u001b[39m(name = \u001b[32m\"leo\"\u001b[39m, species = \u001b[32m\"cat\"\u001b[39m),\n",
       "  \u001b[33mPet\u001b[39m(name = \u001b[32m\"kar4o\"\u001b[39m, species = \u001b[32m\"cat\"\u001b[39m),\n",
       "  \u001b[33mPet\u001b[39m(name = \u001b[32m\"leo\"\u001b[39m, species = \u001b[32m\"cat\"\u001b[39m)\n",
       ")\n",
       "\u001b[36mres5_1\u001b[39m: \u001b[32mList\u001b[39m[\u001b[32mString\u001b[39m] = \u001b[33mList\u001b[39m(\u001b[32m\"leo\"\u001b[39m, \u001b[32m\"kar4o\"\u001b[39m, \u001b[32m\"leo\"\u001b[39m)\n",
       "\u001b[36mres5_2\u001b[39m: \u001b[32mList\u001b[39m[\u001b[32mPet\u001b[39m] = \u001b[33mList\u001b[39m(\n",
       "  \u001b[33mPet\u001b[39m(name = \u001b[32m\"leo\"\u001b[39m, species = \u001b[32m\"cat\"\u001b[39m),\n",
       "  \u001b[33mPet\u001b[39m(name = \u001b[32m\"kar4o\"\u001b[39m, species = \u001b[32m\"cat\"\u001b[39m),\n",
       "  \u001b[33mPet\u001b[39m(name = \u001b[32m\"leo\"\u001b[39m, species = \u001b[32m\"cat\"\u001b[39m)\n",
       ")\n",
       "\u001b[36mres5_3\u001b[39m: \u001b[32mList\u001b[39m[\u001b[32mString\u001b[39m] = \u001b[33mList\u001b[39m(\u001b[32m\"leo\"\u001b[39m, \u001b[32m\"kar4o\"\u001b[39m, \u001b[32m\"leo\"\u001b[39m)"
      ]
     },
     "execution_count": 6,
     "metadata": {},
     "output_type": "execute_result"
    }
   ],
   "source": [
    "val catsAndStuff = List(Pet(\"leo\", \"cat\"), Pet(\"kar4o\", \"cat\"), Pet(\"leo\", \"cat\"))\n",
    "// val catsAndStuff = List(Pet(\"leo\", \"cat\"), Pet(\"kar4o\", \"cat\"), Pet(\"leo\", \"thesaddog\"))\n",
    "for (Pet(name, \"cat\") <- catsAndStuff) yield name\n",
    "\n",
    "catsAndStuff.filter {case Pet(name, \"cat\") => true}\n",
    "\n",
    "catsAndStuff.collect {case Pet(name, \"cat\") => name}\n",
    "\n",
    "\n",
    "\n"
   ]
  },
  {
   "cell_type": "markdown",
   "id": "675dbcc7",
   "metadata": {
    "slideshow": {
     "slide_type": "slide"
    }
   },
   "source": [
    "## Algebraic Data Type"
   ]
  },
  {
   "cell_type": "markdown",
   "id": "75edacb3",
   "metadata": {
    "slideshow": {
     "slide_type": "fragment"
    }
   },
   "source": [
    "* What is an Algebra?"
   ]
  },
  {
   "cell_type": "markdown",
   "id": "e07aa3f6",
   "metadata": {
    "slideshow": {
     "slide_type": "fragment"
    }
   },
   "source": [
    "* What are Algebraic Data Types"
   ]
  },
  {
   "cell_type": "markdown",
   "id": "9142be17",
   "metadata": {
    "slideshow": {
     "slide_type": "fragment"
    }
   },
   "source": [
    "* Are classes and case classes ADTs?"
   ]
  },
  {
   "cell_type": "markdown",
   "id": "9fff1651",
   "metadata": {
    "slideshow": {
     "slide_type": "slide"
    }
   },
   "source": [
    "## Languages with ADTs all of them!"
   ]
  },
  {
   "cell_type": "markdown",
   "id": "1dc28edf",
   "metadata": {
    "slideshow": {
     "slide_type": "fragment"
    }
   },
   "source": [
    "Haskell, Ocaml, F#, Haskell, Rust, Typescript, Racket, Kotlin, Java"
   ]
  },
  {
   "cell_type": "markdown",
   "id": "8d8e9eb3",
   "metadata": {
    "slideshow": {
     "slide_type": "slide"
    }
   },
   "source": [
    "## Back to Scala!"
   ]
  },
  {
   "cell_type": "code",
   "execution_count": 7,
   "id": "c213d280",
   "metadata": {
    "slideshow": {
     "slide_type": "slide"
    }
   },
   "outputs": [
    {
     "data": {
      "text/plain": [
       "defined \u001b[32mtrait\u001b[39m \u001b[36mSpecies\u001b[39m\n",
       "defined \u001b[32mobject\u001b[39m \u001b[36mCat\u001b[39m\n",
       "defined \u001b[32mobject\u001b[39m \u001b[36mDog\u001b[39m\n",
       "defined \u001b[32mobject\u001b[39m \u001b[36mWhoTheFuckCares\u001b[39m\n",
       "\u001b[36mkar4oTheCat\u001b[39m: \u001b[32mPet\u001b[39m = \u001b[33mPet\u001b[39m(name = \u001b[32m\"kar4o\"\u001b[39m, species = Cat)\n",
       "defined \u001b[32mclass\u001b[39m \u001b[36mPet\u001b[39m\n",
       "\u001b[36mres6_6\u001b[39m: \u001b[32mString\u001b[39m = \u001b[32m\"Je suis kar4o\"\u001b[39m"
      ]
     },
     "execution_count": 7,
     "metadata": {},
     "output_type": "execute_result"
    }
   ],
   "source": [
    "// And then there was the Sum Type\n",
    "// What is it again?\n",
    "\n",
    "sealed trait Species\n",
    "case object Cat extends Species\n",
    "case object Dog extends Species\n",
    "case object WhoTheFuckCares extends Species\n",
    "\n",
    "val kar4oTheCat = Pet(\"kar4o\", Cat)\n",
    "\n",
    "case class Pet(name: String, species: Species)\n",
    "\n",
    "kar4oTheCat match {\n",
    "    case Pet(_, Cat) => \"Je suis kar4o\"\n",
    "    case _ => \"Je ne suis pas kar4o\"\n",
    "}\n",
    "\n",
    "\n",
    "\n"
   ]
  },
  {
   "cell_type": "code",
   "execution_count": 8,
   "id": "3a3afeec",
   "metadata": {
    "slideshow": {
     "slide_type": "slide"
    }
   },
   "outputs": [
    {
     "data": {
      "text/plain": [
       "defined \u001b[32mtrait\u001b[39m \u001b[36mSpecies\u001b[39m\n",
       "defined \u001b[32mobject\u001b[39m \u001b[36mCat\u001b[39m\n",
       "defined \u001b[32mobject\u001b[39m \u001b[36mDog\u001b[39m\n",
       "defined \u001b[32mobject\u001b[39m \u001b[36mWhoTheFuckCares\u001b[39m\n",
       "defined \u001b[32mclass\u001b[39m \u001b[36mPet\u001b[39m"
      ]
     },
     "execution_count": 8,
     "metadata": {},
     "output_type": "execute_result"
    }
   ],
   "source": [
    "// That other type, the product type, what does it look like?\n",
    "\n",
    "sealed trait Species\n",
    "case object Cat extends Species\n",
    "case object Dog extends Species\n",
    "case object WhoTheFuckCares extends Species\n",
    "\n",
    "case class Pet(name: String, species: Species)"
   ]
  },
  {
   "cell_type": "code",
   "execution_count": 35,
   "id": "c44bc464",
   "metadata": {
    "slideshow": {
     "slide_type": "slide"
    }
   },
   "outputs": [],
   "source": [
    "// Let's revisit the Pet"
   ]
  },
  {
   "cell_type": "code",
   "execution_count": 49,
   "id": "1ff29963",
   "metadata": {
    "slideshow": {
     "slide_type": "fragment"
    }
   },
   "outputs": [
    {
     "data": {
      "text/plain": [
       "defined \u001b[32mtrait\u001b[39m \u001b[36mShape\u001b[39m\n",
       "defined \u001b[32mclass\u001b[39m \u001b[36mRectangle\u001b[39m\n",
       "defined \u001b[32mclass\u001b[39m \u001b[36mCircle\u001b[39m\n",
       "defined \u001b[32mclass\u001b[39m \u001b[36mSquare\u001b[39m\n",
       "defined \u001b[32mclass\u001b[39m \u001b[36mOxycotin\u001b[39m\n",
       "\u001b[36marea\u001b[39m: \u001b[32mPartialFunction\u001b[39m[\u001b[32mShape\u001b[39m, \u001b[32mDouble\u001b[39m] = <function1>\n",
       "\u001b[36mres48_6\u001b[39m: \u001b[32mDouble\u001b[39m = \u001b[32m4.0\u001b[39m"
      ]
     },
     "execution_count": 49,
     "metadata": {},
     "output_type": "execute_result"
    }
   ],
   "source": [
    "// Let's look at the expression problem now!\n",
    "// Functional - Harder to add type\n",
    "// OOP - Harder to add behaviour\n",
    "\n",
    "sealed trait Shape\n",
    "case class Rectangle(w: Double, h: Double) extends Shape\n",
    "case class Circle(r: Double) extends Shape\n",
    "case class Square(side: Double) extends Shape\n",
    "case class Oxycotin(p: Int) extends Shape\n",
    "\n",
    "val area:PartialFunction[Shape, Double] = {\n",
    "    case Rectangle(w, h) => w*h\n",
    "    case Circle(r) => 3.14 * r * r\n",
    "    case Square(s) => s*s\n",
    "}\n",
    "\n",
    "area(Rectangle(2,2))\n",
    "\n"
   ]
  },
  {
   "cell_type": "markdown",
   "id": "ea17153f",
   "metadata": {
    "slideshow": {
     "slide_type": "slide"
    }
   },
   "source": [
    "## Onto the mighty Option"
   ]
  },
  {
   "cell_type": "code",
   "execution_count": 69,
   "id": "35d336b1",
   "metadata": {
    "slideshow": {
     "slide_type": "fragment"
    }
   },
   "outputs": [
    {
     "data": {
      "text/plain": [
       "defined \u001b[32mtrait\u001b[39m \u001b[36mOption\u001b[39m\n",
       "defined \u001b[32mclass\u001b[39m \u001b[36mSome\u001b[39m\n",
       "defined \u001b[32mobject\u001b[39m \u001b[36mNone\u001b[39m\n",
       "\u001b[36mmaybeString\u001b[39m: \u001b[32mNone\u001b[39m.type = None\n",
       "\u001b[36mmaybeSomeString\u001b[39m: \u001b[32mSome\u001b[39m[\u001b[32mString\u001b[39m] = \u001b[33mSome\u001b[39m(value = \u001b[32m\"kar4o\"\u001b[39m)\n",
       "\u001b[36mres68_5\u001b[39m: \u001b[32mProduct\u001b[39m with \u001b[32mOption\u001b[39m[\u001b[32mNothing\u001b[39m] with \u001b[32mSerializable\u001b[39m = None\n",
       "\u001b[36mres68_6\u001b[39m: \u001b[32mString\u001b[39m = \u001b[32m\"poopy\"\u001b[39m\n",
       "\u001b[36mres68_7\u001b[39m: \u001b[32mOption\u001b[39m[\u001b[32mString\u001b[39m] = \u001b[33mSome\u001b[39m(value = \u001b[32m\"kar4o\"\u001b[39m)\n",
       "\u001b[36mres68_8\u001b[39m: \u001b[32mOption\u001b[39m[\u001b[32mString\u001b[39m] = \u001b[33mSome\u001b[39m(value = \u001b[32m\"kar4o\"\u001b[39m)"
      ]
     },
     "execution_count": 69,
     "metadata": {},
     "output_type": "execute_result"
    }
   ],
   "source": [
    "// I have something, or I have nothing\n",
    "sealed trait Option[+T] {\n",
    "    def map[R](f: T => R) =  this match {\n",
    "        case Some(x) => Some(f(x))\n",
    "        case None => None\n",
    "    }\n",
    "        \n",
    "    def getOrElse[R >: T](defaultValue: R): R = this match {\n",
    "        case Some(x) => x\n",
    "        case None => defaultValue\n",
    "    }\n",
    "    \n",
    "    def flatMap[R](f: T => Option[R]): Option[R] = this.map(f).getOrElse(None)\n",
    "    \n",
    "    def filter(f: T => Boolean): Option[T] ={\n",
    "        this.flatMap(v => if (f(v)) this else None)\n",
    "    }\n",
    "}\n",
    "case class Some[+T](value: T) extends Option[T]\n",
    "// Just\n",
    "\n",
    "case object None extends Option[Nothing]\n",
    "// Nothing\n",
    "val maybeString = None\n",
    "val maybeSomeString = Some(\"kar4o\")\n",
    "\n",
    "maybeString.map {identity}\n",
    "maybeString.getOrElse(\"poopy\")\n",
    "maybeSomeString.flatMap {i => Some(i)}\n",
    "maybeSomeString.filter(i => i.length == 5)"
   ]
  },
  {
   "cell_type": "code",
   "execution_count": 62,
   "id": "553d872b",
   "metadata": {
    "slideshow": {
     "slide_type": "fragment"
    }
   },
   "outputs": [],
   "source": [
    "// Implement it:"
   ]
  },
  {
   "cell_type": "code",
   "execution_count": null,
   "id": "8c13012d",
   "metadata": {
    "slideshow": {
     "slide_type": "slide"
    }
   },
   "outputs": [],
   "source": [
    "val animals = List(Option())\n",
    "\n",
    "for {\n",
    "    \n",
    "    \n",
    "    \n",
    "}"
   ]
  },
  {
   "cell_type": "code",
   "execution_count": null,
   "id": "4fee48ec",
   "metadata": {},
   "outputs": [],
   "source": []
  }
 ],
 "metadata": {
  "celltoolbar": "Slideshow",
  "kernelspec": {
   "display_name": "Scala",
   "language": "scala",
   "name": "scala"
  },
  "language_info": {
   "codemirror_mode": "text/x-scala",
   "file_extension": ".sc",
   "mimetype": "text/x-scala",
   "name": "scala",
   "nbconvert_exporter": "script",
   "version": "2.13.4"
  }
 },
 "nbformat": 4,
 "nbformat_minor": 5
}
